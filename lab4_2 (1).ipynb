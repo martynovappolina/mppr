{
  "nbformat": 4,
  "nbformat_minor": 0,
  "metadata": {
    "colab": {
      "provenance": []
    },
    "kernelspec": {
      "name": "python3",
      "display_name": "Python 3"
    },
    "language_info": {
      "name": "python"
    }
  },
  "cells": [
    {
      "cell_type": "markdown",
      "source": [
        "# Часть 2"
      ],
      "metadata": {
        "id": "JlFnnOLvcB2M"
      }
    },
    {
      "cell_type": "code",
      "source": [
        "import json\n",
        "import random\n",
        "import numpy as np"
      ],
      "metadata": {
        "id": "WEBTEeIhcIhQ"
      },
      "execution_count": null,
      "outputs": []
    },
    {
      "cell_type": "markdown",
      "source": [
        "**Snake**"
      ],
      "metadata": {
        "id": "4mGpcGL9j8_a"
      }
    },
    {
      "cell_type": "code",
      "source": [
        "\n",
        "width = 400\n",
        "height = 400\n",
        "grid = 16\n",
        "count = 0\n",
        "snake = dict(x=160, y=160, dx=grid, dy=0, cells=[], maxCells=4)\n",
        "apple = dict(x=320, y=320)"
      ],
      "metadata": {
        "id": "btSAP0Svgtv7"
      },
      "execution_count": null,
      "outputs": []
    },
    {
      "cell_type": "code",
      "source": [
        "def restart():\n",
        "    snake = dict(x=160, y=160, dx=grid, dy=0, cells=[], maxCells=4)\n",
        "    apple = dict(x=320, y=320)\n",
        "    return snake, apple\n",
        "\n",
        "\n",
        "def generate_apple(apple):\n",
        "    apple['x'] = random.randint(0, 25) * grid\n",
        "    apple['y'] = random.randint(0, 25) * grid\n",
        "\n",
        "\n",
        "def loop(snake, apple):\n",
        "    snake['x'] += snake['dx']\n",
        "    snake['y'] += snake['dy']\n",
        "\n",
        "    if snake['x'] < 0:\n",
        "        snake['x'] = width - grid\n",
        "    elif snake['x'] >= width:\n",
        "        snake['x'] = 0\n",
        "\n",
        "    if snake['y'] < 0:\n",
        "        snake['y'] = height - grid\n",
        "    elif snake['y'] >= height:\n",
        "        snake['y'] = 0\n",
        "\n",
        "    snake['cells'] = [(snake['x'], snake['y'])] + snake['cells']\n",
        "\n",
        "    if len(snake['cells']) > snake['maxCells']:\n",
        "        snake['cells'].pop()\n",
        "\n",
        "    for index, cell in enumerate(snake['cells']):\n",
        "        if cell[0] == apple['x'] and cell[1] == apple['y']:\n",
        "            snake['maxCells'] += 1\n",
        "            generate_apple(apple)\n",
        "\n",
        "        for i in range(index + 1, len(snake['cells'])):\n",
        "            # snake occupies same space as a body part. reset game\n",
        "            if (cell[0] == snake['cells'][i][0] and\n",
        "                cell[1] == snake['cells'][i][1]):\n",
        "                return -1#restart(snake, apple)\n",
        "\n",
        "    return 0"
      ],
      "metadata": {
        "id": "9vWXZShBgxtG"
      },
      "execution_count": null,
      "outputs": []
    },
    {
      "cell_type": "code",
      "source": [
        "\n",
        "actionMap = {0: 37, 1: 38, 2: 39, 3: 40}\n",
        "\n",
        "def apply_action(snake, actionId):\n",
        "    key = actionMap[actionId]\n",
        "\n",
        "    if (key == 37 and snake['dx'] == 0):\n",
        "        snake['dx'] = -grid\n",
        "        snake['dy'] = 0\n",
        "    elif (key == 38 and snake['dy'] == 0):\n",
        "        snake['dx'] = 0\n",
        "        snake['dy'] = -grid\n",
        "    elif (key == 39 and snake['dx'] == 0):\n",
        "        snake['dx'] = grid\n",
        "        snake['dy'] = 0\n",
        "    elif (key == 40 and snake['dy'] == 0):\n",
        "        snake['dx'] = 0\n",
        "        snake['dy'] = grid"
      ],
      "metadata": {
        "id": "1sS3tg1Ig4Mv"
      },
      "execution_count": null,
      "outputs": []
    },
    {
      "cell_type": "code",
      "source": [
        "\n",
        "def get_features(snake, apple):\n",
        "    sensors = [\n",
        "        np.sign(snake['dx']),\n",
        "        np.sign(snake['dy']),\n",
        "        (snake['x'] - snake['cells'][-1][0])/width if len(snake['cells']) else 0,\n",
        "        (snake['y'] - snake['cells'][-1][1])/height if len(snake['cells']) else 0,\n",
        "        snake['x'] == apple['x'],\n",
        "        snake['y'] == apple['y'],\n",
        "        (snake['x'] - apple['x'])/width>0,\n",
        "        (snake['x'] - apple['x'])/width<0,\n",
        "        (snake['y'] - apple['y'])/height>0,\n",
        "        (snake['y'] - apple['y'])/height<0,\n",
        "        any([(snake['x'] == cell[0] and snake['dy'] == 0) for cell in snake['cells'][1:]]),\n",
        "        any([(snake['y'] == cell[1] and snake['dx'] == 0) for cell in snake['cells'][1:]]),\n",
        "        any([(snake['x'] == cell[0] and snake['dy'] > 0) for cell in snake['cells'][1:]]),\n",
        "        any([(snake['y'] == cell[1] and snake['dx'] > 0) for cell in snake['cells'][1:]]),\n",
        "        any([(snake['x'] == cell[0] and snake['dy'] < 0) for cell in snake['cells'][1:]]),\n",
        "        any([(snake['y'] == cell[1] and snake['dx'] < 0) for cell in snake['cells'][1:]]),\n",
        "    ]\n",
        "    return sensors\n",
        "\n",
        "%timeit get_features(snake, apple)"
      ],
      "metadata": {
        "colab": {
          "base_uri": "https://localhost:8080/"
        },
        "id": "WzIYC_sZg6eN",
        "outputId": "9f321d31-64a8-4bc5-ca62-43dcaa8cad55"
      },
      "execution_count": null,
      "outputs": [
        {
          "output_type": "stream",
          "name": "stdout",
          "text": [
            "5.06 µs ± 78.5 ns per loop (mean ± std. dev. of 7 runs, 100000 loops each)\n"
          ]
        }
      ]
    },
    {
      "cell_type": "code",
      "source": [
        "def get_one():\n",
        "    W = np.random.normal(size=(16, 4))\n",
        "    b = np.random.normal(size=(4,))\n",
        "    return W, b\n",
        "\n",
        "\n",
        "def getAction(snake, apple, W, b):\n",
        "    return (W.T.dot(get_features(snake, apple)) + b).argmax()\n",
        "\n",
        "getAction(snake, apple, *get_one())"
      ],
      "metadata": {
        "colab": {
          "base_uri": "https://localhost:8080/"
        },
        "id": "J1PXCtn1g86q",
        "outputId": "83b54d47-b5f5-4c41-ffbf-1ecef943ac14"
      },
      "execution_count": null,
      "outputs": [
        {
          "output_type": "execute_result",
          "data": {
            "text/plain": [
              "1"
            ]
          },
          "metadata": {},
          "execution_count": 263
        }
      ]
    },
    {
      "cell_type": "code",
      "source": [
        "\n",
        "def get_score(W, b, patience=100):\n",
        "    snake, apple = restart()\n",
        "    maxCells_patience = patience\n",
        "    maxCells_prev = snake['maxCells']\n",
        "    while loop(snake, apple) != -1:\n",
        "        apply_action(snake, getAction(snake, apple, W, b))\n",
        "        if snake['maxCells'] > maxCells_prev:\n",
        "            maxCells_prev = snake['maxCells']\n",
        "            maxCells_patience = patience\n",
        "        maxCells_patience -= 1\n",
        "        if maxCells_patience < 0:\n",
        "            snake['maxCells'] = snake['maxCells']/2\n",
        "            break\n",
        "    return snake['maxCells']"
      ],
      "metadata": {
        "id": "XJ5WpJm3g_iE"
      },
      "execution_count": null,
      "outputs": []
    },
    {
      "cell_type": "code",
      "source": [
        "\n",
        "def mutate(W, b, mutation_rate=0.02):\n",
        "    dW, db = get_one()\n",
        "    dWM, dbM = get_one()\n",
        "    return (W + dW * (dWM > 0) * mutation_rate,\n",
        "            b + db * (dbM > 0) * mutation_rate)\n",
        "\n",
        "\n",
        "def crossover(W1, b1, W2, b2):\n",
        "    maskW = np.random.random(W1.shape) < 0.5\n",
        "    maskb = np.random.random(b1.shape) < 0.5\n",
        "    return W1 * maskW + W2 * (~maskW), b1 * maskb + b2 * (~maskb)\n",
        "     "
      ],
      "metadata": {
        "id": "7A0tF2zohB3q"
      },
      "execution_count": null,
      "outputs": []
    },
    {
      "cell_type": "code",
      "source": [
        "def generate_random(population, size):\n",
        "    new_population = []\n",
        "    for _ in range(size):\n",
        "        if np.random.random()<0.5:\n",
        "            new_population.append(get_one())\n",
        "        else:\n",
        "            new_population.append(mutate(*population[0]))\n",
        "    return new_population\n"
      ],
      "metadata": {
        "id": "qXwYXhxHhEdc"
      },
      "execution_count": null,
      "outputs": []
    },
    {
      "cell_type": "code",
      "source": [
        "def selection(population, scores, topK=2):\n",
        "    scores = np.array(scores)*1.\n",
        "    scores /= scores.sum()\n",
        "    elitismTopK = np.argsort(scores)[::-1][:topK//2]\n",
        "    roulleteTopK = np.random.choice(len(scores),\n",
        "                                    p=scores,\n",
        "                                    size=topK//2)\n",
        "\n",
        "    new_population = [tuple(map(lambda x: x.copy(), population[i])) for i in elitismTopK]+\\\n",
        "                     [tuple(map(lambda x: x.copy(), population[i])) for i in roulleteTopK]\n",
        "\n",
        "    return new_population\n",
        "\n",
        "\n",
        "def breed(population, scores, nChilds=10):\n",
        "    scores = np.array(scores)*1.\n",
        "    scores /= scores.sum()\n",
        "    parents = np.random.choice(len(scores),\n",
        "                               p=scores,\n",
        "                               size=(nChilds, 2))\n",
        "\n",
        "    new_population = []\n",
        "    for parentA, parentB in parents:\n",
        "        new_population.append(mutate(*crossover(*population[parentA], *population[parentB])))\n",
        "\n",
        "    return new_population"
      ],
      "metadata": {
        "id": "QBuvBCOVhJ1B"
      },
      "execution_count": null,
      "outputs": []
    },
    {
      "cell_type": "code",
      "source": [
        "def get_new_population(population, scores, topK=4, randomNum=10):\n",
        "    return (\n",
        "    selection(population, scores, topK) + \\\n",
        "    breed(population, scores, nChilds=max(0, len(population) - randomNum - topK)) + \\\n",
        "    generate_random(population, randomNum)\n",
        "    )"
      ],
      "metadata": {
        "id": "88FPObbEhMNm"
      },
      "execution_count": null,
      "outputs": []
    },
    {
      "cell_type": "code",
      "source": [
        "def get_scores(population, patience=100):\n",
        "    scores = []\n",
        "    for W, b in population:\n",
        "        scores.append(get_score(W, b, patience))\n",
        "    return scores"
      ],
      "metadata": {
        "id": "Lo7VP0jVhOkW"
      },
      "execution_count": null,
      "outputs": []
    },
    {
      "cell_type": "code",
      "source": [
        "POPULATION_SIZE = 64\n",
        "NUM_GENERATIONS = 10\n",
        "NUM_REPEATS = 3 # зачем?\n",
        "NUM_RESTARTS = 5\n",
        "PATIENCE = lambda x: 100*((x+5)//5)\n",
        "\n",
        "best_thingey = None\n",
        "best_score = 0\n",
        "\n",
        "for n_restart in range(NUM_RESTARTS):\n",
        "    print('='*50)\n",
        "    print('Cтарт перезапуска №%d'%(n_restart+1))\n",
        "    print('Лучшая пока что: %.1f'%best_score)\n",
        "    print('='*50)\n",
        "    population = [get_one() for _ in range(POPULATION_SIZE)]\n",
        "\n",
        "    for generation in range(NUM_GENERATIONS):\n",
        "        scores = 0\n",
        "        for _ in range(NUM_REPEATS):\n",
        "            scores += np.array(get_scores(population, PATIENCE(generation)))\n",
        "        scores /= NUM_REPEATS\n",
        "        bscore = max(scores)\n",
        "\n",
        "        scores **= 4 # зачем?\n",
        "        population = get_new_population(population, scores, topK=5, randomNum=20)\n",
        "        if bscore > best_score:\n",
        "            best_score = bscore\n",
        "            best_thingey = np.concatenate([population[0][0],     # W\n",
        "                                           [population[0][1]]])  # b\n",
        "            print('Рестарт: %d\\tПоколение: %d\\tЗначение: %.1f'%(n_restart+1,\n",
        "                                                                generation,\n",
        "                                                                bscore))"
      ],
      "metadata": {
        "colab": {
          "base_uri": "https://localhost:8080/"
        },
        "id": "TtWU5MgzhQzb",
        "outputId": "d9ecc80f-a3d9-4141-86d4-f60f228c95c3"
      },
      "execution_count": null,
      "outputs": [
        {
          "output_type": "stream",
          "name": "stdout",
          "text": [
            "==================================================\n",
            "Cтарт перезапуска №1\n",
            "Лучшая пока что: 0.0\n",
            "==================================================\n",
            "Рестарт: 1\tПоколение: 0\tЗначение: 5.8\n",
            "Рестарт: 1\tПоколение: 1\tЗначение: 19.5\n",
            "Рестарт: 1\tПоколение: 2\tЗначение: 21.7\n",
            "Рестарт: 1\tПоколение: 3\tЗначение: 23.0\n",
            "Рестарт: 1\tПоколение: 4\tЗначение: 30.3\n",
            "==================================================\n",
            "Cтарт перезапуска №2\n",
            "Лучшая пока что: 30.3\n",
            "==================================================\n",
            "Рестарт: 2\tПоколение: 6\tЗначение: 32.3\n",
            "==================================================\n",
            "Cтарт перезапуска №3\n",
            "Лучшая пока что: 32.3\n",
            "==================================================\n",
            "==================================================\n",
            "Cтарт перезапуска №4\n",
            "Лучшая пока что: 32.3\n",
            "==================================================\n",
            "Рестарт: 4\tПоколение: 8\tЗначение: 32.5\n",
            "==================================================\n",
            "Cтарт перезапуска №5\n",
            "Лучшая пока что: 32.5\n",
            "==================================================\n",
            "Рестарт: 5\tПоколение: 5\tЗначение: 35.0\n"
          ]
        }
      ]
    },
    {
      "cell_type": "code",
      "source": [
        "with open('snake_weights.js', 'w') as f:\n",
        "    f.write('var W = %s;\\n'%\n",
        "            (json.dumps([[int(1e3*w)/1e3 for w in W] for W in best_thingey])))"
      ],
      "metadata": {
        "id": "_6u0qvNnhXDZ"
      },
      "execution_count": null,
      "outputs": []
    },
    {
      "cell_type": "code",
      "source": [],
      "metadata": {
        "id": "UsjHXBjjhjv8"
      },
      "execution_count": null,
      "outputs": []
    },
    {
      "cell_type": "code",
      "source": [],
      "metadata": {
        "id": "LA5Y4t3HkBG0"
      },
      "execution_count": null,
      "outputs": []
    },
    {
      "cell_type": "code",
      "source": [],
      "metadata": {
        "id": "NwfUTIUlkBIt"
      },
      "execution_count": null,
      "outputs": []
    },
    {
      "cell_type": "code",
      "source": [],
      "metadata": {
        "id": "gZpjIHxjkBMX"
      },
      "execution_count": null,
      "outputs": []
    },
    {
      "cell_type": "markdown",
      "source": [
        "**Ping-Pong**"
      ],
      "metadata": {
        "id": "0RxgTFTIkB_C"
      }
    },
    {
      "cell_type": "code",
      "source": [
        "import json\n",
        "import random\n",
        "import numpy as np"
      ],
      "metadata": {
        "id": "RcIx0ZjxkD5-"
      },
      "execution_count": null,
      "outputs": []
    },
    {
      "cell_type": "code",
      "source": [
        "width = 750\n",
        "height = 585\n",
        "grid = 15\n",
        "paddleHeight = grid*5\n",
        "maxPaddleY = height - grid - paddleHeight\n",
        "paddleSpeed = 6\n",
        "ballSpeed = 5\n",
        "\n",
        "leftPaddle = dict(x=grid*2,\n",
        "                  y=height/2 - paddleHeight/2,\n",
        "                  width=grid,\n",
        "                  height=paddleHeight,\n",
        "                  dy=0)\n",
        "rightPaddle = dict(x=width-grid*3,\n",
        "                   y = height / 2 - paddleHeight/2,\n",
        "                   width=grid,\n",
        "                   height=paddleHeight,\n",
        "                   dy=0)\n",
        "ball = dict(x=width/2,\n",
        "            y=height/2,\n",
        "            width=grid,\n",
        "            height=grid,\n",
        "            resetting=False,\n",
        "            dx=ballSpeed,\n",
        "            dy=-ballSpeed,\n",
        "            score=0)"
      ],
      "metadata": {
        "id": "SWSMF_Nrkqnc"
      },
      "execution_count": null,
      "outputs": []
    },
    {
      "cell_type": "code",
      "source": [
        "\n",
        "def collides(obj1, obj2):\n",
        "    return (\n",
        "        obj1['x'] < obj2['x'] + obj2['width'] and\n",
        "        obj1['x'] + obj1['width'] > obj2['x'] and\n",
        "        obj1['y'] < obj2['y'] + obj2['height'] and\n",
        "        obj1['y'] + obj1['height'] > obj2['y']\n",
        "    )\n",
        "\n",
        "\n",
        "def restart(leftPaddle, rightPaddle, ball):\n",
        "    ball['resetting'] = False\n",
        "    ball['x'] = width / 2\n",
        "    ball['y'] = height / 2\n",
        "    ball['score'] = 0\n",
        "\n",
        "    leftPaddle['x'] = grid*2\n",
        "    leftPaddle['y'] = height/2 - paddleHeight/2\n",
        "\n",
        "    rightPaddle['x'] = width - grid*3\n",
        "    rightPaddle['y'] = height / 2 - paddleHeight/2"
      ],
      "metadata": {
        "id": "V39gwcALkuPc"
      },
      "execution_count": null,
      "outputs": []
    },
    {
      "cell_type": "code",
      "source": [
        "def loop(leftPaddle, rightPaddle, ball):\n",
        "    leftPaddle['y'] += leftPaddle['dy']\n",
        "    rightPaddle['y'] += rightPaddle['dy']\n",
        "\n",
        "    if (leftPaddle['y'] < grid):\n",
        "        leftPaddle['y'] = grid\n",
        "    elif (leftPaddle['y'] > maxPaddleY):\n",
        "        leftPaddle['y'] = maxPaddleY\n",
        "\n",
        "    if (rightPaddle['y'] < grid):\n",
        "        rightPaddle['y'] = grid\n",
        "    elif (rightPaddle['y'] > maxPaddleY):\n",
        "        rightPaddle['y'] = maxPaddleY\n",
        "\n",
        "    ball['x'] += ball['dx']\n",
        "    ball['y'] += ball['dy']\n",
        "\n",
        "    if (ball['y'] < grid):\n",
        "        ball['y'] = grid\n",
        "        ball['dy'] *= -1\n",
        "    elif (ball['y'] + grid > height - grid):\n",
        "        ball['y'] = height - grid * 2\n",
        "        ball['dy'] *= -1\n",
        "\n",
        "    if ( (ball['x'] < 0 or ball['x'] > width) and not ball['resetting']):\n",
        "        return -1\n",
        "\n",
        "    if (collides(ball, leftPaddle)):\n",
        "        ball['dx'] *= -1\n",
        "        ball['x'] = leftPaddle['x'] + leftPaddle['width']\n",
        "        ball['score'] += 1\n",
        "    elif (collides(ball, rightPaddle)):\n",
        "        ball['dx'] *= -1\n",
        "        ball['x'] = rightPaddle['x'] - rightPaddle['width']\n",
        "        ball['score'] += 1\n",
        "\n",
        "    return 0\n",
        "     "
      ],
      "metadata": {
        "id": "Tl1-D-GckycA"
      },
      "execution_count": null,
      "outputs": []
    },
    {
      "cell_type": "code",
      "source": [
        "actionMap = {0: 38, # правый игрок вверх\n",
        "             1: 40, # правый игрок вниз\n",
        "             2: 87, # левый игрок вверх\n",
        "             3: 83, # левый игрок вниз\n",
        "             4: -1, # правый игрок ожидает\n",
        "             5: -2} # вниз игрок ожидает\n",
        "\n",
        "def apply_action(leftPaddle, rightPaddle, actionId):\n",
        "    key = actionMap[actionId]\n",
        "\n",
        "    if key == 38:\n",
        "        rightPaddle['dy'] = -paddleSpeed\n",
        "    elif key == 40:\n",
        "        rightPaddle['dy'] = +paddleSpeed\n",
        "    elif key == -1:\n",
        "        rightPaddle['dy'] = 0\n",
        "    elif key == 87:\n",
        "        leftPaddle['dy'] = -paddleSpeed\n",
        "    elif key == 83:\n",
        "        leftPaddle['dy'] = +paddleSpeed\n",
        "    elif key == -2:\n",
        "        leftPaddle['dy'] = 0"
      ],
      "metadata": {
        "id": "T79kLaVok5v4"
      },
      "execution_count": null,
      "outputs": []
    },
    {
      "cell_type": "code",
      "source": [
        "def get_features(leftPaddle, rightPaddle, ball):\n",
        "    sensors = [\n",
        "        np.sign(leftPaddle['y'] - ball['y']),\n",
        "        np.abs(leftPaddle['y'] - ball['y']) / height,\n",
        "        np.abs(leftPaddle['x'] - ball['x']) / width,\n",
        "        np.sign(rightPaddle['y'] - ball['y']),\n",
        "        np.abs(rightPaddle['y'] - ball['y']) / height,\n",
        "        np.abs(rightPaddle['x'] - ball['x']) / width,\n",
        "        np.sign(leftPaddle['dy']),\n",
        "        np.sign(leftPaddle['dy'])==0,\n",
        "        np.sign(rightPaddle['dy']),\n",
        "        np.sign(rightPaddle['dy'])==0,\n",
        "        np.sign(ball['dx']),\n",
        "        np.sign(ball['dy']),\n",
        "        np.sign(ball['x'] - width//2),\n",
        "        np.sign(ball['y'] - height//2),\n",
        "        1 # что это?\n",
        "    ]\n",
        "\n",
        "    return sensors\n",
        "\n",
        "%timeit get_features(leftPaddle, rightPaddle, ball)"
      ],
      "metadata": {
        "colab": {
          "base_uri": "https://localhost:8080/"
        },
        "id": "bo1gBhxlk8rA",
        "outputId": "0e5955a7-ef44-47a8-b1f8-56978f962620"
      },
      "execution_count": null,
      "outputs": [
        {
          "output_type": "stream",
          "name": "stdout",
          "text": [
            "13.1 µs ± 738 ns per loop (mean ± std. dev. of 7 runs, 10000 loops each)\n"
          ]
        }
      ]
    },
    {
      "cell_type": "code",
      "source": [
        "\n",
        "def get_one():\n",
        "    W = np.random.normal(size=(15, 6))\n",
        "    return W\n",
        "\n",
        "def getAction(leftPaddle, rightPaddle, ball, W):\n",
        "    return (W.T.dot(get_features(leftPaddle, rightPaddle, ball))).argmax()\n",
        "\n",
        "getAction(leftPaddle, rightPaddle, ball, get_one())\n",
        "     "
      ],
      "metadata": {
        "colab": {
          "base_uri": "https://localhost:8080/"
        },
        "id": "STP_Mm3ZllUy",
        "outputId": "9d1fecaa-48ea-4842-eca4-aeb13910f7db"
      },
      "execution_count": null,
      "outputs": [
        {
          "output_type": "execute_result",
          "data": {
            "text/plain": [
              "1"
            ]
          },
          "metadata": {},
          "execution_count": 279
        }
      ]
    },
    {
      "cell_type": "code",
      "source": [
        "def get_score(W, patience=100):\n",
        "    restart(leftPaddle, rightPaddle, ball)\n",
        "    maxScore_patience = patience\n",
        "    maxScore_prev = ball['score']\n",
        "    action = getAction(leftPaddle, rightPaddle, ball, W)\n",
        "    for _ in range(int(2e4)):\n",
        "        if loop(leftPaddle, rightPaddle, ball) == -1:\n",
        "            break\n",
        "        # симуляция запоздалой реакции агента\n",
        "        if np.random.random() < 0.5:\n",
        "            action = getAction(leftPaddle, rightPaddle, ball, W)\n",
        "        apply_action(leftPaddle, rightPaddle, action)\n",
        "        if  ball['score'] > maxScore_prev:\n",
        "            maxScore_prev = ball['score']\n",
        "            maxScore_patience = patience\n",
        "        maxScore_patience -= 1\n",
        "        if maxScore_patience < 0:\n",
        "            break\n",
        "    return ball['score']"
      ],
      "metadata": {
        "id": "op5vq_9Lln6J"
      },
      "execution_count": null,
      "outputs": []
    },
    {
      "cell_type": "code",
      "source": [
        "def mutate(W, mutation_rate=0.02):\n",
        "    dW = get_one()\n",
        "    dM = get_one() > 0\n",
        "    return W + dW * dM * mutation_rate\n",
        "\n",
        "\n",
        "def crossover(W1, W2):\n",
        "    maskW = np.random.random(W1.shape) < 0.5\n",
        "    return W1 * maskW + W2 * (~maskW)\n",
        "     "
      ],
      "metadata": {
        "id": "ntpix5fultl3"
      },
      "execution_count": null,
      "outputs": []
    },
    {
      "cell_type": "code",
      "source": [
        "\n",
        "def generate_random(population, size):\n",
        "    new_population = []\n",
        "    for _ in range(size):\n",
        "        if np.random.random() < 0.5:\n",
        "            new_population.append(get_one())\n",
        "        else:\n",
        "            new_population.append(mutate(population[0]))\n",
        "    return new_population\n",
        "\n",
        "\n",
        "def selection(population, scores, topK=2):\n",
        "    scores = np.array(scores)*1.\n",
        "    scores /= scores.sum()\n",
        "    elitismTopK = np.argsort(scores)[::-1][:topK//2]\n",
        "    roulleteTopK = np.random.choice(len(scores),\n",
        "                                    p=scores,\n",
        "                                    size=topK//2)\n",
        "\n",
        "    new_population = [population[i].copy() for i in elitismTopK] + \\\n",
        "                     [population[i].copy() for i in roulleteTopK]\n",
        "\n",
        "    return new_population"
      ],
      "metadata": {
        "id": "-MOp6f2UlvjE"
      },
      "execution_count": null,
      "outputs": []
    },
    {
      "cell_type": "code",
      "source": [
        "def breed(population, scores, nChilds=10):\n",
        "    scores = np.array(scores)*1.\n",
        "    scores /= scores.sum()\n",
        "    parents = np.random.choice(len(scores),\n",
        "                               p=scores,\n",
        "                               size=(nChilds, 2))\n",
        "\n",
        "    new_population = []\n",
        "    for parentA, parentB in parents:\n",
        "        new_population.append(mutate(crossover(population[parentA],\n",
        "                                               population[parentB])))\n",
        "\n",
        "    return new_population\n",
        "\n",
        "\n",
        "def get_new_population(population, scores, topK=4, randomNum=10):\n",
        "    return (\n",
        "    selection(population, scores, topK) + \\\n",
        "    breed(population, scores,\n",
        "          nChilds=max(0, len(population) - randomNum - topK)) + \\\n",
        "    generate_random(population, randomNum)\n",
        "    )"
      ],
      "metadata": {
        "id": "mgWjfGfVlx8v"
      },
      "execution_count": null,
      "outputs": []
    },
    {
      "cell_type": "code",
      "source": [
        "\n",
        "def get_scores(population, patience=100):\n",
        "    scores = []\n",
        "    for W in population:\n",
        "        scores.append(get_score(W, patience))\n",
        "    return scores"
      ],
      "metadata": {
        "id": "sNuEOyucl0nM"
      },
      "execution_count": null,
      "outputs": []
    },
    {
      "cell_type": "code",
      "source": [
        "RANDOM_SIZE = 20\n",
        "ELITE_SIZE = 5\n",
        "NUM_GENERATIONS = 100\n",
        "NUM_REPEATS = 3 # зачем?\n",
        "NUM_RESTARTS = 5\n",
        "PATIENCE = lambda x: 1000*((x+2)//2)\n",
        "\n",
        "best_thingey = None\n",
        "best_score = 0\n",
        "\n",
        "for n_restart in range(NUM_RESTARTS):\n",
        "    print('='*50)\n",
        "    print('Cтарт перезапуска №%d'%(n_restart+1))\n",
        "    print('Лучшая пока что: %.1f'%best_score)\n",
        "    print('='*50)\n",
        "    population = [get_one() for _ in range(POPULATION_SIZE)]\n",
        "\n",
        "    for generation in range(NUM_GENERATIONS):\n",
        "        scores = 1e-10\n",
        "        for _ in range(NUM_REPEATS):\n",
        "            scores += np.array(get_scores(population, PATIENCE(generation)))\n",
        "        scores /= NUM_REPEATS\n",
        "        bscore = max(scores)\n",
        "\n",
        "        scores **= 4 # зачем?\n",
        "        population = get_new_population(population, scores,\n",
        "                                        topK=ELITE_SIZE,\n",
        "                                        randomNum=RANDOM_SIZE)\n",
        "        if bscore > best_score:\n",
        "            best_score = bscore\n",
        "            best_thingey = np.array(population[0])\n",
        "            print('Рестарт: %d\\tПоколение: %d\\tЗначение: %.1f'%(n_restart+1,\n",
        "                                                                generation,\n",
        "                                                                bscore))"
      ],
      "metadata": {
        "colab": {
          "base_uri": "https://localhost:8080/"
        },
        "id": "Xy__cY1zl4MZ",
        "outputId": "895d671a-8354-4889-da3f-352533126092"
      },
      "execution_count": null,
      "outputs": [
        {
          "output_type": "stream",
          "name": "stdout",
          "text": [
            "==================================================\n",
            "Cтарт перезапуска №1\n",
            "Лучшая пока что: 0.0\n",
            "==================================================\n",
            "Рестарт: 1\tПоколение: 0\tЗначение: 2.0\n",
            "Рестарт: 1\tПоколение: 1\tЗначение: 3.0\n",
            "Рестарт: 1\tПоколение: 3\tЗначение: 3.3\n",
            "Рестарт: 1\tПоколение: 5\tЗначение: 4.0\n",
            "Рестарт: 1\tПоколение: 6\tЗначение: 4.3\n",
            "Рестарт: 1\tПоколение: 48\tЗначение: 5.0\n",
            "==================================================\n",
            "Cтарт перезапуска №2\n",
            "Лучшая пока что: 5.0\n",
            "==================================================\n",
            "==================================================\n",
            "Cтарт перезапуска №3\n",
            "Лучшая пока что: 5.0\n",
            "==================================================\n",
            "==================================================\n",
            "Cтарт перезапуска №4\n",
            "Лучшая пока что: 5.0\n",
            "==================================================\n",
            "Рестарт: 4\tПоколение: 22\tЗначение: 5.3\n",
            "Рестарт: 4\tПоколение: 24\tЗначение: 6.0\n",
            "Рестарт: 4\tПоколение: 33\tЗначение: 6.3\n",
            "==================================================\n",
            "Cтарт перезапуска №5\n",
            "Лучшая пока что: 6.3\n",
            "==================================================\n"
          ]
        }
      ]
    },
    {
      "cell_type": "code",
      "source": [
        "with open('pingpong_weights.js', 'w') as f:\n",
        "    f.write('var W = %s;\\n'%\n",
        "            (json.dumps([[int(1e3*w)/1e3 for w in W] for W in best_thingey])))"
      ],
      "metadata": {
        "id": "wFfBAK6xl7m0"
      },
      "execution_count": null,
      "outputs": []
    },
    {
      "cell_type": "code",
      "source": [],
      "metadata": {
        "id": "6D1gniWtl-NC"
      },
      "execution_count": null,
      "outputs": []
    },
    {
      "cell_type": "code",
      "source": [],
      "metadata": {
        "id": "V2YxiNo3l_JP"
      },
      "execution_count": null,
      "outputs": []
    },
    {
      "cell_type": "code",
      "source": [],
      "metadata": {
        "id": "SWt3lq3al_Ll"
      },
      "execution_count": null,
      "outputs": []
    },
    {
      "cell_type": "code",
      "source": [],
      "metadata": {
        "id": "3dd2nyFAl_PF"
      },
      "execution_count": null,
      "outputs": []
    },
    {
      "cell_type": "markdown",
      "source": [
        "**DoodleJump**"
      ],
      "metadata": {
        "id": "UkoctQdLl_rg"
      }
    },
    {
      "cell_type": "code",
      "source": [
        "\n",
        "import json\n",
        "import random\n",
        "import numpy as np"
      ],
      "metadata": {
        "id": "JYwgp0tymEHC"
      },
      "execution_count": null,
      "outputs": []
    },
    {
      "cell_type": "code",
      "source": [
        "def init_states():\n",
        "    settings = dict(\n",
        "        width = 375,\n",
        "        height = 667,\n",
        "        platformWidth = 65,\n",
        "        platformHeight = 20,\n",
        "\n",
        "        gravity = 0.33,\n",
        "        drag = 0.3,\n",
        "        bounceVelocity = -12.5,\n",
        "\n",
        "        minPlatformSpace = 15,\n",
        "        maxPlatformSpace = 20,\n",
        "        keydown = False,\n",
        "        score = 0,\n",
        "    )\n",
        "    settings['platformStart'] = settings['height'] - 50\n",
        "\n",
        "    platforms = [dict(x=settings['width'] / 2 - settings['platformWidth'] / 2,\n",
        "                      y=settings['platformStart'])]\n",
        "    y = settings['platformStart']\n",
        "    while (y > 0):\n",
        "        y -= settings['platformHeight'] + \\\n",
        "             np.random.randint(settings['minPlatformSpace'],\n",
        "                               settings['maxPlatformSpace'])\n",
        "\n",
        "        while True:\n",
        "            x = np.random.uniform(25, settings['width'] \\\n",
        "                                  - 25 - settings['platformWidth'])\n",
        "            if not ((y > settings['height'] / 2) and\n",
        "                    (x > settings['width'] / 2 \n",
        "                     - settings['platformWidth'] * 1.5) and\n",
        "                    (x < settings['width'] / 2 \n",
        "                     + settings['platformWidth'] / 2)):\n",
        "                break\n",
        "        platforms.append(dict(x=x, y=y))\n",
        "\n",
        "    doodle = dict(\n",
        "      width=40,\n",
        "      height=60,\n",
        "      x=settings['width'] / 2 - 20,\n",
        "      y=settings['platformStart'] - 60,\n",
        "      dx=0,\n",
        "      dy=0,\n",
        "      playerDir=0,\n",
        "      prevDoodleY=settings['platformStart'] - 60,\n",
        "    )\n",
        "\n",
        "    return doodle, platforms, settings\n",
        "\n",
        "doodle, platforms, settings = init_states()"
      ],
      "metadata": {
        "id": "6wWqknVIniTq"
      },
      "execution_count": null,
      "outputs": []
    },
    {
      "cell_type": "code",
      "source": [
        "\n",
        "def restart():\n",
        "    doodle, platforms, settings = init_states()\n",
        "    return doodle, platforms, settings\n",
        "\n",
        "\n",
        "def loop(doodle, platforms, settings):\n",
        "    doodle['dy'] += settings['gravity']\n",
        "\n",
        "    if (doodle['y'] < settings['height'] / 2 and doodle['dy'] < 0):\n",
        "        for i, _ in enumerate(platforms):\n",
        "            platforms[i]['y'] -= doodle['dy']\n",
        "\n",
        "        while (platforms[-1]['y'] > 0):\n",
        "            platforms.append(dict(\n",
        "                x=np.random.uniform(25,\n",
        "                                    settings['width'] - 25\n",
        "                                    - settings['platformWidth']),\n",
        "                y=np.random.uniform(platforms[-1]['y'] -\n",
        "                                    (settings['platformHeight'] +\n",
        "                                     np.random.uniform(\n",
        "                                         settings['minPlatformSpace'],\n",
        "                                         settings['maxPlatformSpace']))\n",
        "                                    )\n",
        "                                )\n",
        "                            )\n",
        "\n",
        "            settings['minPlatformSpace'] = min(settings['minPlatformSpace'] \n",
        "                                               + 0.5,\n",
        "                                               settings['height'] / 2 - 0.5)\n",
        "            settings['maxPlatformSpace'] = min(settings['maxPlatformSpace'] \n",
        "                                               + 0.5,\n",
        "                                               settings['height'] / 2)\n",
        "    else:\n",
        "        doodle['y'] += doodle['dy']\n",
        "\n",
        "    if not settings['keydown']:\n",
        "        if (doodle['playerDir'] < 0):\n",
        "            doodle['dx'] += settings['drag'];\n",
        "            if (doodle['dx'] > 0):\n",
        "                doodle['dx'] = 0\n",
        "                doodle['playerDir'] = 0\n",
        "        elif (doodle['playerDir'] > 0):\n",
        "            doodle['dx'] -= settings['drag']\n",
        "\n",
        "            if (doodle['dx'] < 0):\n",
        "                doodle['dx'] = 0\n",
        "                doodle['playerDir'] = 0\n",
        "\n",
        "    doodle['x'] += doodle['dx']\n",
        "\n",
        "    if (doodle['x'] + doodle['width'] < 0):\n",
        "        doodle['x'] = settings['width']\n",
        "    elif (doodle['x'] > settings['width']):\n",
        "        doodle['x'] = -doodle['width']\n",
        "\n",
        "    for platform in platforms:\n",
        "        if (\n",
        "          (doodle['dy'] > 0) and\n",
        "          (doodle['prevDoodleY'] + doodle['height'] <= platform['y']) and\n",
        "          (doodle['x'] < platform['x'] + settings['platformWidth']) and\n",
        "          (doodle['x'] + doodle['width'] > platform['x']) and\n",
        "          (doodle['y'] < platform['y'] + settings['platformHeight']) and\n",
        "          (doodle['y'] + doodle['height'] > platform['y'])\n",
        "        ):\n",
        "            doodle['y'] = platform['y'] - doodle['height']\n",
        "            doodle['dy'] = settings['bounceVelocity']\n",
        "\n",
        "    doodle['prevDoodleY'] = doodle['y']\n",
        "    platforms_cleared = len(platforms)\n",
        "    platforms = list(filter(lambda platform: platform['y'] < settings['height'],\n",
        "                            platforms))\n",
        "    platforms_cleared -= len(platforms)\n",
        "    settings['score'] += platforms_cleared\n",
        "\n",
        "    if doodle['y'] > settings['height'] + doodle['height']:\n",
        "        return -1\n",
        "    return 0\n"
      ],
      "metadata": {
        "id": "AqjIeMdqn8YD"
      },
      "execution_count": null,
      "outputs": []
    },
    {
      "cell_type": "code",
      "source": [
        "\n",
        "actionMap = {0: 37, # движение влево\n",
        "             1: 39, # движение вправо\n",
        "             2: -1} # ожидание\n",
        "\n",
        "def apply_action(doodle, platforms, settings, actionId):\n",
        "    key = actionMap[actionId]\n",
        "\n",
        "    if key == 37:\n",
        "        settings['keydown'] = True\n",
        "        settings['playerDir'] = -1\n",
        "        doodle['dx'] = -3\n",
        "    elif key == 39:\n",
        "        settings['keydown'] = True\n",
        "        settings['playerDir'] = 1\n",
        "        doodle['dx'] = 3\n",
        "    else:\n",
        "        settings['keydown'] = False"
      ],
      "metadata": {
        "id": "SgE5fjr6n_w7"
      },
      "execution_count": null,
      "outputs": []
    },
    {
      "cell_type": "code",
      "source": [
        "\n",
        "# агент видел значения в этих пикселях\n",
        "sensor_web = np.meshgrid(np.arange(-settings['width']*2//3,\n",
        "                                   +settings['width']*2//3, 50),\n",
        "                         np.arange(-settings['height']*2//3,\n",
        "                                   +settings['height']*2//3, 75))\n",
        "sensor_web = np.concatenate([sensor_web[0].flatten()[:, None],\n",
        "                             sensor_web[1].flatten()[:, None]], axis=1)"
      ],
      "metadata": {
        "id": "orOvRyGBoB1y"
      },
      "execution_count": null,
      "outputs": []
    },
    {
      "cell_type": "code",
      "source": [
        "\n",
        "def get_features(doodle, platforms, settings):\n",
        "    points = np.array([(p['x'], p['y']) for p in platforms])\n",
        "\n",
        "    sensor_x = (sensor_web[:, 0]*1 + doodle['x']) % settings['width']\n",
        "    sensor_y = np.clip((sensor_web[:, 1]*1 + doodle['y']),\n",
        "                       1, settings['height']-1)\n",
        "\n",
        "    xx = sensor_x.reshape(-1, 1) - points[:, 0]\n",
        "    yy = sensor_y.reshape(-1, 1) - points[:, 1]\n",
        "    cond1 = (xx - settings['platformWidth']) < 0\n",
        "    cond2 = (xx) > 0\n",
        "    cond3 = (yy - settings['platformHeight']) < 0\n",
        "    cond4 = (yy) > 0\n",
        "\n",
        "    sensors = ((cond1*cond2*cond3*cond4).any(axis=1))*1.\n",
        "    return np.concatenate([sensors, [doodle['dx'],\n",
        "                                     doodle['dy'],\n",
        "                                     1]])\n",
        "\n",
        "%timeit get_features(doodle, platforms, settings)"
      ],
      "metadata": {
        "colab": {
          "base_uri": "https://localhost:8080/"
        },
        "id": "Y3nEh2WWoD4V",
        "outputId": "49956603-c226-4075-8735-9dd8e5483c26"
      },
      "execution_count": null,
      "outputs": [
        {
          "output_type": "stream",
          "name": "stdout",
          "text": [
            "85.6 µs ± 1.64 µs per loop (mean ± std. dev. of 7 runs, 10000 loops each)\n"
          ]
        }
      ]
    },
    {
      "cell_type": "code",
      "source": [
        "\n",
        "# Многослойный персептрон из ЛР3 передаёт привет:)\n",
        "def get_one(h1=5, n_classes=3):\n",
        "    W = np.random.normal(size=(sensor_web.shape[0]+3, h1))\n",
        "    W2 = np.random.normal(size=(h1, n_classes))\n",
        "    return W, W2\n",
        "\n",
        "def softmax(x):\n",
        "    xe = np.exp(x-x.max())\n",
        "    return xe/xe.sum()\n",
        "\n",
        "def getAction(doodle, platforms, settings, weights):\n",
        "    W, W2 = weights\n",
        "    logits = np.maximum(W.T.dot(get_features(doodle, platforms, settings)),\n",
        "                        0).dot(W2)\n",
        "    # действия выбираются не детерминированно, а вероятностно\n",
        "    return np.random.choice(np.arange(logits.size), p=softmax(logits))\n",
        "\n",
        "getAction(doodle, platforms, settings, get_one())"
      ],
      "metadata": {
        "colab": {
          "base_uri": "https://localhost:8080/"
        },
        "id": "sqZ9WY74oFyd",
        "outputId": "f65b3a16-32f1-4da6-83ab-e6d47b11cf9f"
      },
      "execution_count": null,
      "outputs": [
        {
          "output_type": "execute_result",
          "data": {
            "text/plain": [
              "0"
            ]
          },
          "metadata": {},
          "execution_count": 293
        }
      ]
    },
    {
      "cell_type": "code",
      "source": [
        "\n",
        "def get_score(W, patience=100, return_actions=False):\n",
        "    doodle, platforms, settings = restart()\n",
        "    maxScore_patience = patience\n",
        "    maxScore_prev = settings['minPlatformSpace']\n",
        "    actions = []\n",
        "    xcoords = []\n",
        "    action = getAction(doodle, platforms, settings, W)\n",
        "    for _ in range(int(5e4)):\n",
        "        if loop(doodle, platforms, settings) == -1:\n",
        "            break\n",
        "        # симуляция запоздалой реакции агента\n",
        "        if np.random.random() < 0.25:\n",
        "            action = getAction(doodle, platforms, settings, W)\n",
        "        actions.append(action)\n",
        "        xcoords.append(doodle['x'])\n",
        "        apply_action(doodle, platforms, settings, action)\n",
        "        if  settings['minPlatformSpace'] > maxScore_prev:\n",
        "            maxScore_prev = settings['minPlatformSpace']\n",
        "            maxScore_patience = patience\n",
        "        maxScore_patience -= 1\n",
        "        if maxScore_patience < 0:\n",
        "            break\n",
        "    if return_actions:\n",
        "        return actions, xcoords, settings['minPlatformSpace']\n",
        "    return settings['minPlatformSpace']"
      ],
      "metadata": {
        "id": "FGF6QkvkoIb6"
      },
      "execution_count": null,
      "outputs": []
    },
    {
      "cell_type": "code",
      "source": [
        "def mutate(weights, mutation_rate=0.01):\n",
        "    W, W2 = weights\n",
        "    dW, dW2 = get_one()\n",
        "    dM, dM2 = get_one()\n",
        "    return W + dW*(dM>0)*mutation_rate, W2 + dW2*(dM2>0)*mutation_rate\n",
        "\n",
        "\n",
        "def crossover(W1, W2):\n",
        "    result = []\n",
        "    for w1, w2 in zip(W1, W2):\n",
        "        maskW = np.random.random(w1.shape)<0.5\n",
        "        result.append(w1*maskW+w2*(~maskW))\n",
        "    return result"
      ],
      "metadata": {
        "id": "pEzpTeFaoLDe"
      },
      "execution_count": null,
      "outputs": []
    },
    {
      "cell_type": "code",
      "source": [
        "\n",
        "def generate_random(population, size):\n",
        "    new_population = []\n",
        "    for _ in range(size):\n",
        "        if np.random.random()<0.5:\n",
        "            new_population.append(get_one())\n",
        "        else:\n",
        "            new_population.append(mutate(population[0]))\n",
        "    return new_population\n",
        "\n",
        "\n",
        "def selection(population, scores, topK=2):\n",
        "    scores = np.array(scores)*1.\n",
        "    scores /= scores.sum()\n",
        "    elitismTopK = np.argsort(scores)[::-1][:topK//2]\n",
        "    roulleteTopK = np.random.choice(len(scores),\n",
        "                                    p=scores,\n",
        "                                    size=topK//2)\n",
        "\n",
        "    new_population = [tuple(map(lambda x: x.copy(), population[i]))\n",
        "                      for i in elitismTopK]+\\\n",
        "                     [tuple(map(lambda x: x.copy(), population[i]))\n",
        "                      for i in roulleteTopK]\n",
        "\n",
        "    return new_population\n",
        "\n",
        "\n",
        "def breed(population, scores, nChilds=10):\n",
        "    scores = np.array(scores)*1.\n",
        "    scores /= scores.sum()\n",
        "    parents = np.random.choice(len(scores),\n",
        "                               p=scores,\n",
        "                               size=(nChilds, 2))\n",
        "\n",
        "    new_population = []\n",
        "    for parentA, parentB in parents:\n",
        "        new_population.append(mutate(crossover(population[parentA],\n",
        "                                               population[parentB])))\n",
        "\n",
        "    return new_population\n",
        "\n",
        "# зачем?\n",
        "def factorize(population, factor=3):\n",
        "    for i, p in enumerate(population):\n",
        "        population[i] = tuple([np.array([[int(10**factor*w)/10**factor\n",
        "                                          for w in W]\n",
        "                                         for W in pp])\n",
        "                               for pp in p])\n",
        "    return population\n",
        "\n",
        "\n",
        "def get_new_population(population, scores, topK=4, randomNum=10):\n",
        "    return factorize(\n",
        "    selection(population, scores, topK) + \\\n",
        "    breed(population, scores,\n",
        "          nChilds=max(0, len(population) - randomNum - topK)) + \\\n",
        "    generate_random(population, randomNum)\n",
        "    )"
      ],
      "metadata": {
        "id": "8IP3O3qPoNt7"
      },
      "execution_count": null,
      "outputs": []
    },
    {
      "cell_type": "code",
      "source": [
        "\n",
        "def get_scores(population, patience=100):\n",
        "    scores = []\n",
        "    for W in population:\n",
        "        scores.append(get_score(W, patience))\n",
        "    return scores"
      ],
      "metadata": {
        "id": "zppaZIC5oPjc"
      },
      "execution_count": null,
      "outputs": []
    },
    {
      "cell_type": "code",
      "source": [
        "\n",
        "# сохранение чекпоинта \"мозгов\" интеллектуального агента\n",
        "def save_thingey(best_thingey, score):\n",
        "    with open('doodlejump_weights_%.1f.js'%score, 'w') as f:\n",
        "        f.write('var sensorWeb = %s;\\n\\nvar W = %s;\\n\\nvar W2 = %s;\\n'%\n",
        "                (json.dumps([[int(w) for w in W] for W in sensor_web]),\n",
        "                 json.dumps([[int(1e2*w)/1e2 for w in W]\n",
        "                             for W in best_thingey[0]]),\n",
        "                 json.dumps([[int(1e2*w)/1e2 for w in W]\n",
        "                             for W in best_thingey[1]])))"
      ],
      "metadata": {
        "id": "ewG8Y8KkoRYq"
      },
      "execution_count": null,
      "outputs": []
    },
    {
      "cell_type": "code",
      "source": [
        "\n",
        "POPULATION_SIZE = 64\n",
        "RANDOM_SIZE = 20\n",
        "ELITE_SIZE = 4\n",
        "NUM_GENERATIONS = 100\n",
        "NUM_REPEATS = 3 # зачем?\n",
        "NUM_RESTARTS = 5\n",
        "PATIENCE = lambda x: 100*((x+2)//2)\n",
        "population = [get_one() for _ in range(POPULATION_SIZE)]\n",
        "\n",
        "best_thingey = None\n",
        "best_score = 0\n",
        "\n",
        "for n_restart in range(NUM_RESTARTS):\n",
        "    print('='*50)\n",
        "    print('Cтарт перезапуска №%d'%(n_restart+1))\n",
        "    print('Лучшая пока что: %.1f'%best_score)\n",
        "    print('='*50)\n",
        "    population = [get_one() for _ in range(POPULATION_SIZE)]\n",
        "    for generation in range(NUM_GENERATIONS):\n",
        "        scores = 0.\n",
        "        for _ in range(NUM_REPEATS):\n",
        "            scores += np.array(get_scores(population, PATIENCE(generation)))**4\n",
        "        scores /= NUM_REPEATS\n",
        "\n",
        "        population = get_new_population(population, scores,\n",
        "                                        topK=ELITE_SIZE,\n",
        "                                        randomNum=RANDOM_SIZE)\n",
        "        bscore = max(scores)**0.25\n",
        "        if bscore > best_score:\n",
        "            best_score = bscore\n",
        "            best_thingey = [x.copy() for x in population[0]]\n",
        "            print('Рестарт: %d\\tПоколение: %d\\tЗначение: %.1f'%(n_restart+1,\n",
        "                                                                generation,\n",
        "                                                                bscore))\n",
        "            if bscore > 100:\n",
        "                save_thingey(best_thingey, best_score)\n",
        "save_thingey(best_thingey, best_score)"
      ],
      "metadata": {
        "colab": {
          "base_uri": "https://localhost:8080/",
          "height": 589
        },
        "id": "vP7befjaoTmP",
        "outputId": "637e6ced-134c-469a-a99e-77a0565441e0"
      },
      "execution_count": null,
      "outputs": [
        {
          "output_type": "stream",
          "name": "stdout",
          "text": [
            "==================================================\n",
            "Cтарт перезапуска №1\n",
            "Лучшая пока что: 0.0\n",
            "==================================================\n",
            "Рестарт: 1\tПоколение: 0\tЗначение: 44.4\n",
            "Рестарт: 1\tПоколение: 2\tЗначение: 62.0\n",
            "Рестарт: 1\tПоколение: 4\tЗначение: 86.3\n",
            "Рестарт: 1\tПоколение: 6\tЗначение: 86.6\n",
            "Рестарт: 1\tПоколение: 7\tЗначение: 102.6\n",
            "Рестарт: 1\tПоколение: 9\tЗначение: 110.4\n",
            "Рестарт: 1\tПоколение: 26\tЗначение: 110.6\n",
            "Рестарт: 1\tПоколение: 70\tЗначение: 111.3\n"
          ]
        },
        {
          "output_type": "error",
          "ename": "KeyboardInterrupt",
          "evalue": "ignored",
          "traceback": [
            "\u001b[0;31m---------------------------------------------------------------------------\u001b[0m",
            "\u001b[0;31mKeyboardInterrupt\u001b[0m                         Traceback (most recent call last)",
            "\u001b[0;32m<ipython-input-299-7788bd80aec5>\u001b[0m in \u001b[0;36m<module>\u001b[0;34m\u001b[0m\n\u001b[1;32m     20\u001b[0m         \u001b[0mscores\u001b[0m \u001b[0;34m=\u001b[0m \u001b[0;36m0.\u001b[0m\u001b[0;34m\u001b[0m\u001b[0;34m\u001b[0m\u001b[0m\n\u001b[1;32m     21\u001b[0m         \u001b[0;32mfor\u001b[0m \u001b[0m_\u001b[0m \u001b[0;32min\u001b[0m \u001b[0mrange\u001b[0m\u001b[0;34m(\u001b[0m\u001b[0mNUM_REPEATS\u001b[0m\u001b[0;34m)\u001b[0m\u001b[0;34m:\u001b[0m\u001b[0;34m\u001b[0m\u001b[0;34m\u001b[0m\u001b[0m\n\u001b[0;32m---> 22\u001b[0;31m             \u001b[0mscores\u001b[0m \u001b[0;34m+=\u001b[0m \u001b[0mnp\u001b[0m\u001b[0;34m.\u001b[0m\u001b[0marray\u001b[0m\u001b[0;34m(\u001b[0m\u001b[0mget_scores\u001b[0m\u001b[0;34m(\u001b[0m\u001b[0mpopulation\u001b[0m\u001b[0;34m,\u001b[0m \u001b[0mPATIENCE\u001b[0m\u001b[0;34m(\u001b[0m\u001b[0mgeneration\u001b[0m\u001b[0;34m)\u001b[0m\u001b[0;34m)\u001b[0m\u001b[0;34m)\u001b[0m\u001b[0;34m**\u001b[0m\u001b[0;36m4\u001b[0m\u001b[0;34m\u001b[0m\u001b[0;34m\u001b[0m\u001b[0m\n\u001b[0m\u001b[1;32m     23\u001b[0m         \u001b[0mscores\u001b[0m \u001b[0;34m/=\u001b[0m \u001b[0mNUM_REPEATS\u001b[0m\u001b[0;34m\u001b[0m\u001b[0;34m\u001b[0m\u001b[0m\n\u001b[1;32m     24\u001b[0m \u001b[0;34m\u001b[0m\u001b[0m\n",
            "\u001b[0;32m<ipython-input-297-4eaa2fe8dabd>\u001b[0m in \u001b[0;36mget_scores\u001b[0;34m(population, patience)\u001b[0m\n\u001b[1;32m      2\u001b[0m     \u001b[0mscores\u001b[0m \u001b[0;34m=\u001b[0m \u001b[0;34m[\u001b[0m\u001b[0;34m]\u001b[0m\u001b[0;34m\u001b[0m\u001b[0;34m\u001b[0m\u001b[0m\n\u001b[1;32m      3\u001b[0m     \u001b[0;32mfor\u001b[0m \u001b[0mW\u001b[0m \u001b[0;32min\u001b[0m \u001b[0mpopulation\u001b[0m\u001b[0;34m:\u001b[0m\u001b[0;34m\u001b[0m\u001b[0;34m\u001b[0m\u001b[0m\n\u001b[0;32m----> 4\u001b[0;31m         \u001b[0mscores\u001b[0m\u001b[0;34m.\u001b[0m\u001b[0mappend\u001b[0m\u001b[0;34m(\u001b[0m\u001b[0mget_score\u001b[0m\u001b[0;34m(\u001b[0m\u001b[0mW\u001b[0m\u001b[0;34m,\u001b[0m \u001b[0mpatience\u001b[0m\u001b[0;34m)\u001b[0m\u001b[0;34m)\u001b[0m\u001b[0;34m\u001b[0m\u001b[0;34m\u001b[0m\u001b[0m\n\u001b[0m\u001b[1;32m      5\u001b[0m     \u001b[0;32mreturn\u001b[0m \u001b[0mscores\u001b[0m\u001b[0;34m\u001b[0m\u001b[0;34m\u001b[0m\u001b[0m\n",
            "\u001b[0;32m<ipython-input-294-3a79d3eac501>\u001b[0m in \u001b[0;36mget_score\u001b[0;34m(W, patience, return_actions)\u001b[0m\n\u001b[1;32m     11\u001b[0m         \u001b[0;31m# симуляция запоздалой реакции агента\u001b[0m\u001b[0;34m\u001b[0m\u001b[0;34m\u001b[0m\u001b[0;34m\u001b[0m\u001b[0m\n\u001b[1;32m     12\u001b[0m         \u001b[0;32mif\u001b[0m \u001b[0mnp\u001b[0m\u001b[0;34m.\u001b[0m\u001b[0mrandom\u001b[0m\u001b[0;34m.\u001b[0m\u001b[0mrandom\u001b[0m\u001b[0;34m(\u001b[0m\u001b[0;34m)\u001b[0m \u001b[0;34m<\u001b[0m \u001b[0;36m0.25\u001b[0m\u001b[0;34m:\u001b[0m\u001b[0;34m\u001b[0m\u001b[0;34m\u001b[0m\u001b[0m\n\u001b[0;32m---> 13\u001b[0;31m             \u001b[0maction\u001b[0m \u001b[0;34m=\u001b[0m \u001b[0mgetAction\u001b[0m\u001b[0;34m(\u001b[0m\u001b[0mdoodle\u001b[0m\u001b[0;34m,\u001b[0m \u001b[0mplatforms\u001b[0m\u001b[0;34m,\u001b[0m \u001b[0msettings\u001b[0m\u001b[0;34m,\u001b[0m \u001b[0mW\u001b[0m\u001b[0;34m)\u001b[0m\u001b[0;34m\u001b[0m\u001b[0;34m\u001b[0m\u001b[0m\n\u001b[0m\u001b[1;32m     14\u001b[0m         \u001b[0mactions\u001b[0m\u001b[0;34m.\u001b[0m\u001b[0mappend\u001b[0m\u001b[0;34m(\u001b[0m\u001b[0maction\u001b[0m\u001b[0;34m)\u001b[0m\u001b[0;34m\u001b[0m\u001b[0;34m\u001b[0m\u001b[0m\n\u001b[1;32m     15\u001b[0m         \u001b[0mxcoords\u001b[0m\u001b[0;34m.\u001b[0m\u001b[0mappend\u001b[0m\u001b[0;34m(\u001b[0m\u001b[0mdoodle\u001b[0m\u001b[0;34m[\u001b[0m\u001b[0;34m'x'\u001b[0m\u001b[0;34m]\u001b[0m\u001b[0;34m)\u001b[0m\u001b[0;34m\u001b[0m\u001b[0;34m\u001b[0m\u001b[0m\n",
            "\u001b[0;32m<ipython-input-293-6e29119cbfe8>\u001b[0m in \u001b[0;36mgetAction\u001b[0;34m(doodle, platforms, settings, weights)\u001b[0m\n\u001b[1;32m     11\u001b[0m \u001b[0;32mdef\u001b[0m \u001b[0mgetAction\u001b[0m\u001b[0;34m(\u001b[0m\u001b[0mdoodle\u001b[0m\u001b[0;34m,\u001b[0m \u001b[0mplatforms\u001b[0m\u001b[0;34m,\u001b[0m \u001b[0msettings\u001b[0m\u001b[0;34m,\u001b[0m \u001b[0mweights\u001b[0m\u001b[0;34m)\u001b[0m\u001b[0;34m:\u001b[0m\u001b[0;34m\u001b[0m\u001b[0;34m\u001b[0m\u001b[0m\n\u001b[1;32m     12\u001b[0m     \u001b[0mW\u001b[0m\u001b[0;34m,\u001b[0m \u001b[0mW2\u001b[0m \u001b[0;34m=\u001b[0m \u001b[0mweights\u001b[0m\u001b[0;34m\u001b[0m\u001b[0;34m\u001b[0m\u001b[0m\n\u001b[0;32m---> 13\u001b[0;31m     logits = np.maximum(W.T.dot(get_features(doodle, platforms, settings)),\n\u001b[0m\u001b[1;32m     14\u001b[0m                         0).dot(W2)\n\u001b[1;32m     15\u001b[0m     \u001b[0;31m# действия выбираются не детерминированно, а вероятностно\u001b[0m\u001b[0;34m\u001b[0m\u001b[0;34m\u001b[0m\u001b[0;34m\u001b[0m\u001b[0m\n",
            "\u001b[0;32m<ipython-input-292-5851843a2207>\u001b[0m in \u001b[0;36mget_features\u001b[0;34m(doodle, platforms, settings)\u001b[0m\n\u001b[1;32m     13\u001b[0m     \u001b[0mcond4\u001b[0m \u001b[0;34m=\u001b[0m \u001b[0;34m(\u001b[0m\u001b[0myy\u001b[0m\u001b[0;34m)\u001b[0m \u001b[0;34m>\u001b[0m \u001b[0;36m0\u001b[0m\u001b[0;34m\u001b[0m\u001b[0;34m\u001b[0m\u001b[0m\n\u001b[1;32m     14\u001b[0m \u001b[0;34m\u001b[0m\u001b[0m\n\u001b[0;32m---> 15\u001b[0;31m     \u001b[0msensors\u001b[0m \u001b[0;34m=\u001b[0m \u001b[0;34m(\u001b[0m\u001b[0;34m(\u001b[0m\u001b[0mcond1\u001b[0m\u001b[0;34m*\u001b[0m\u001b[0mcond2\u001b[0m\u001b[0;34m*\u001b[0m\u001b[0mcond3\u001b[0m\u001b[0;34m*\u001b[0m\u001b[0mcond4\u001b[0m\u001b[0;34m)\u001b[0m\u001b[0;34m.\u001b[0m\u001b[0many\u001b[0m\u001b[0;34m(\u001b[0m\u001b[0maxis\u001b[0m\u001b[0;34m=\u001b[0m\u001b[0;36m1\u001b[0m\u001b[0;34m)\u001b[0m\u001b[0;34m)\u001b[0m\u001b[0;34m*\u001b[0m\u001b[0;36m1.\u001b[0m\u001b[0;34m\u001b[0m\u001b[0;34m\u001b[0m\u001b[0m\n\u001b[0m\u001b[1;32m     16\u001b[0m     return np.concatenate([sensors, [doodle['dx'],\n\u001b[1;32m     17\u001b[0m                                      \u001b[0mdoodle\u001b[0m\u001b[0;34m[\u001b[0m\u001b[0;34m'dy'\u001b[0m\u001b[0;34m]\u001b[0m\u001b[0;34m,\u001b[0m\u001b[0;34m\u001b[0m\u001b[0;34m\u001b[0m\u001b[0m\n",
            "\u001b[0;32m/usr/local/lib/python3.8/dist-packages/numpy/core/_methods.py\u001b[0m in \u001b[0;36m_any\u001b[0;34m(a, axis, dtype, out, keepdims, where)\u001b[0m\n\u001b[1;32m     55\u001b[0m     \u001b[0;31m# Parsing keyword arguments is currently fairly slow, so avoid it for now\u001b[0m\u001b[0;34m\u001b[0m\u001b[0;34m\u001b[0m\u001b[0;34m\u001b[0m\u001b[0m\n\u001b[1;32m     56\u001b[0m     \u001b[0;32mif\u001b[0m \u001b[0mwhere\u001b[0m \u001b[0;32mis\u001b[0m \u001b[0;32mTrue\u001b[0m\u001b[0;34m:\u001b[0m\u001b[0;34m\u001b[0m\u001b[0;34m\u001b[0m\u001b[0m\n\u001b[0;32m---> 57\u001b[0;31m         \u001b[0;32mreturn\u001b[0m \u001b[0mumr_any\u001b[0m\u001b[0;34m(\u001b[0m\u001b[0ma\u001b[0m\u001b[0;34m,\u001b[0m \u001b[0maxis\u001b[0m\u001b[0;34m,\u001b[0m \u001b[0mdtype\u001b[0m\u001b[0;34m,\u001b[0m \u001b[0mout\u001b[0m\u001b[0;34m,\u001b[0m \u001b[0mkeepdims\u001b[0m\u001b[0;34m)\u001b[0m\u001b[0;34m\u001b[0m\u001b[0;34m\u001b[0m\u001b[0m\n\u001b[0m\u001b[1;32m     58\u001b[0m     \u001b[0;32mreturn\u001b[0m \u001b[0mumr_any\u001b[0m\u001b[0;34m(\u001b[0m\u001b[0ma\u001b[0m\u001b[0;34m,\u001b[0m \u001b[0maxis\u001b[0m\u001b[0;34m,\u001b[0m \u001b[0mdtype\u001b[0m\u001b[0;34m,\u001b[0m \u001b[0mout\u001b[0m\u001b[0;34m,\u001b[0m \u001b[0mkeepdims\u001b[0m\u001b[0;34m,\u001b[0m \u001b[0mwhere\u001b[0m\u001b[0;34m=\u001b[0m\u001b[0mwhere\u001b[0m\u001b[0;34m)\u001b[0m\u001b[0;34m\u001b[0m\u001b[0;34m\u001b[0m\u001b[0m\n\u001b[1;32m     59\u001b[0m \u001b[0;34m\u001b[0m\u001b[0m\n",
            "\u001b[0;31mKeyboardInterrupt\u001b[0m: "
          ]
        }
      ]
    },
    {
      "cell_type": "code",
      "source": [],
      "metadata": {
        "id": "7FWFmW7toYAz"
      },
      "execution_count": null,
      "outputs": []
    }
  ]
}